{
  "nbformat": 4,
  "nbformat_minor": 0,
  "metadata": {
    "colab": {
      "provenance": []
    },
    "kernelspec": {
      "name": "python3",
      "display_name": "Python 3"
    },
    "language_info": {
      "name": "python"
    }
  },
  "cells": [
    {
      "cell_type": "markdown",
      "source": [
        "# lists"
      ],
      "metadata": {
        "id": "O3t4dIKXnl3-"
      }
    },
    {
      "cell_type": "code",
      "execution_count": null,
      "metadata": {
        "id": "5Kj8Iux5nhDi"
      },
      "outputs": [],
      "source": [
        "# lists are the collection of ordeed and mutable data.\n",
        "# a=[]. separated by coma(,).multiple data types\n"
      ]
    },
    {
      "cell_type": "code",
      "source": [
        "furits=[\"apple\",\"banana\",123,1.12]\n",
        "print(furits)"
      ],
      "metadata": {
        "colab": {
          "base_uri": "https://localhost:8080/"
        },
        "id": "ff39PVktoRdj",
        "outputId": "8d6d00f0-72cc-4beb-9833-ebcf2a43b6e5"
      },
      "execution_count": null,
      "outputs": [
        {
          "output_type": "stream",
          "name": "stdout",
          "text": [
            "['apple', 'banana', 123, 1.12]\n"
          ]
        }
      ]
    },
    {
      "cell_type": "markdown",
      "source": [
        "**lists slicing**"
      ],
      "metadata": {
        "id": "0d-XVC0PooLP"
      }
    },
    {
      "cell_type": "code",
      "source": [
        "a=[\"Ironman\",\"Captain America\",\"Thor\",\"Hulk\"]\n",
        "print(a[1])"
      ],
      "metadata": {
        "colab": {
          "base_uri": "https://localhost:8080/"
        },
        "id": "nM75TnnJorjq",
        "outputId": "61c0afd4-7e1b-4da5-db5f-5d166ebffe00"
      },
      "execution_count": null,
      "outputs": [
        {
          "output_type": "stream",
          "name": "stdout",
          "text": [
            "Captain America\n"
          ]
        }
      ]
    },
    {
      "cell_type": "code",
      "source": [
        "print(a[-3])"
      ],
      "metadata": {
        "colab": {
          "base_uri": "https://localhost:8080/"
        },
        "id": "GFnnEUr5o8Oq",
        "outputId": "ed92ddcd-c0ba-416e-e6ec-f5a5c2a00398"
      },
      "execution_count": null,
      "outputs": [
        {
          "output_type": "stream",
          "name": "stdout",
          "text": [
            "Captain America\n"
          ]
        }
      ]
    },
    {
      "cell_type": "code",
      "source": [
        "print(a[1:3])"
      ],
      "metadata": {
        "colab": {
          "base_uri": "https://localhost:8080/"
        },
        "id": "m8UJHqW2pA2R",
        "outputId": "5a2ace7d-d6a4-4d8e-df8c-7ad41c2bd816"
      },
      "execution_count": null,
      "outputs": [
        {
          "output_type": "stream",
          "name": "stdout",
          "text": [
            "['Captain America', 'Thor']\n"
          ]
        }
      ]
    },
    {
      "cell_type": "code",
      "source": [
        "print(a[:2])"
      ],
      "metadata": {
        "colab": {
          "base_uri": "https://localhost:8080/"
        },
        "id": "e4TU1V5YpHjY",
        "outputId": "36947a93-ce68-4849-f21f-36a8a3ebb681"
      },
      "execution_count": null,
      "outputs": [
        {
          "output_type": "stream",
          "name": "stdout",
          "text": [
            "['Ironman', 'Captain America']\n"
          ]
        }
      ]
    },
    {
      "cell_type": "code",
      "source": [
        "print(a[2:])"
      ],
      "metadata": {
        "colab": {
          "base_uri": "https://localhost:8080/"
        },
        "id": "x5eTNdVJpPeE",
        "outputId": "a6dd14c4-e0d3-4a98-8f10-70416c15e6ee"
      },
      "execution_count": null,
      "outputs": [
        {
          "output_type": "stream",
          "name": "stdout",
          "text": [
            "['Thor', 'Hulk']\n"
          ]
        }
      ]
    },
    {
      "cell_type": "code",
      "source": [
        "print(a[::2])"
      ],
      "metadata": {
        "colab": {
          "base_uri": "https://localhost:8080/"
        },
        "id": "dnEoCRAPpSfX",
        "outputId": "75aa6db8-ad9d-4c33-8d99-c566af795c19"
      },
      "execution_count": null,
      "outputs": [
        {
          "output_type": "stream",
          "name": "stdout",
          "text": [
            "['Ironman', 'Thor']\n"
          ]
        }
      ]
    },
    {
      "cell_type": "code",
      "source": [
        "print(a[::-1])"
      ],
      "metadata": {
        "colab": {
          "base_uri": "https://localhost:8080/"
        },
        "id": "bTs0l--tpf6J",
        "outputId": "d6e4e5d1-0b0c-489a-bac8-9370f574e8bd"
      },
      "execution_count": null,
      "outputs": [
        {
          "output_type": "stream",
          "name": "stdout",
          "text": [
            "['Hulk', 'Thor', 'Captain America', 'Ironman']\n"
          ]
        }
      ]
    },
    {
      "cell_type": "code",
      "source": [
        "print(a[-1:-4:-1])"
      ],
      "metadata": {
        "colab": {
          "base_uri": "https://localhost:8080/"
        },
        "id": "Dby0OLF0pjHH",
        "outputId": "ded922e5-5a61-4960-9e56-aeeb4b1095a3"
      },
      "execution_count": null,
      "outputs": [
        {
          "output_type": "stream",
          "name": "stdout",
          "text": [
            "['Hulk', 'Thor', 'Captain America']\n"
          ]
        }
      ]
    },
    {
      "cell_type": "markdown",
      "source": [
        "**list Iteration**"
      ],
      "metadata": {
        "id": "Dk3fS8Kip79U"
      }
    },
    {
      "cell_type": "code",
      "source": [
        "# iteration using for loop\n",
        "a=[\"Ironman\",\"Captain America\",\"Thor\",\"Hulk\"]\n",
        "for i in a:\n",
        "    print(i)"
      ],
      "metadata": {
        "colab": {
          "base_uri": "https://localhost:8080/"
        },
        "id": "-N4SwTCTp-yJ",
        "outputId": "19f7fe4a-6460-4ad6-cd4c-07c1dee0bc5b"
      },
      "execution_count": null,
      "outputs": [
        {
          "output_type": "stream",
          "name": "stdout",
          "text": [
            "Ironman\n",
            "Captain America\n",
            "Thor\n",
            "Hulk\n"
          ]
        }
      ]
    },
    {
      "cell_type": "code",
      "source": [
        "# iteration using for loop with range and lenght function\n",
        "for i in range (len(a)):\n",
        "  print(a[i])"
      ],
      "metadata": {
        "colab": {
          "base_uri": "https://localhost:8080/"
        },
        "id": "bh4yFbz4qCXV",
        "outputId": "9f6dfdf5-f215-40ed-cb33-1babc193da65"
      },
      "execution_count": null,
      "outputs": [
        {
          "output_type": "stream",
          "name": "stdout",
          "text": [
            "Ironman\n",
            "Captain America\n",
            "Thor\n",
            "Hulk\n"
          ]
        }
      ]
    },
    {
      "cell_type": "code",
      "source": [
        "# iteration using while loop\n",
        "a=[\"Ironman\",\"Captain America\",\"Thor\",\"Hulk\"]\n",
        "i=0\n",
        "while i<len(a):\n",
        "    print(a[i])\n",
        "    i+=1"
      ],
      "metadata": {
        "colab": {
          "base_uri": "https://localhost:8080/"
        },
        "id": "GaeDVHXNqLu9",
        "outputId": "098670f3-9aa2-44cd-8799-ad7f2e3140e2"
      },
      "execution_count": null,
      "outputs": [
        {
          "output_type": "stream",
          "name": "stdout",
          "text": [
            "Ironman\n",
            "Captain America\n",
            "Thor\n",
            "Hulk\n"
          ]
        }
      ]
    },
    {
      "cell_type": "code",
      "source": [
        "# using short-hand for loop\n",
        "a=[\"Ironman\",\"Captain America\",\"Thor\",\"Hulk\"]\n",
        "[print(i) for i in a]"
      ],
      "metadata": {
        "colab": {
          "base_uri": "https://localhost:8080/"
        },
        "id": "awp5tTetqOpn",
        "outputId": "1ea9386e-f495-492b-9e50-8e851acbf5fa"
      },
      "execution_count": null,
      "outputs": [
        {
          "output_type": "stream",
          "name": "stdout",
          "text": [
            "Ironman\n",
            "Captain America\n",
            "Thor\n",
            "Hulk\n"
          ]
        },
        {
          "output_type": "execute_result",
          "data": {
            "text/plain": [
              "[None, None, None, None]"
            ]
          },
          "metadata": {},
          "execution_count": 21
        }
      ]
    },
    {
      "cell_type": "markdown",
      "source": [
        "**lists funtions**"
      ],
      "metadata": {
        "id": "pboA9A1Wrjwt"
      }
    },
    {
      "cell_type": "code",
      "source": [
        "# to find the lenght of a list\n",
        "a=[\"Ironman\",\"Captain America\",\"Thor\",\"Hulk\"]\n",
        "print(len(a))"
      ],
      "metadata": {
        "colab": {
          "base_uri": "https://localhost:8080/"
        },
        "id": "7WlD2aW7rm3X",
        "outputId": "00f86bc9-2496-4b8c-c983-4c0886ff8cac"
      },
      "execution_count": null,
      "outputs": [
        {
          "output_type": "stream",
          "name": "stdout",
          "text": [
            "4\n"
          ]
        }
      ]
    },
    {
      "cell_type": "code",
      "source": [
        "# to count an occurance of a particular element\n",
        "a=[\"Ironman\",\"Captain America\",\"Thor\",\"Hulk\",\"Thor\"]\n",
        "print(a.count(\"Thor\"))"
      ],
      "metadata": {
        "colab": {
          "base_uri": "https://localhost:8080/"
        },
        "id": "ZQGoVaI_rrb-",
        "outputId": "2f6de4f8-1531-42a7-9972-622d7d240281"
      },
      "execution_count": null,
      "outputs": [
        {
          "output_type": "stream",
          "name": "stdout",
          "text": [
            "2\n"
          ]
        }
      ]
    },
    {
      "cell_type": "code",
      "source": [
        "# to add to the list\n",
        "a=[\"Ironman\",\"Captain America\",\"Thor\",\"Hulk\"]\n",
        "a.append(\"Spiderman\") # add at the last of string\n",
        "print(a)"
      ],
      "metadata": {
        "colab": {
          "base_uri": "https://localhost:8080/"
        },
        "id": "YxV9YV5DryS8",
        "outputId": "70344283-c3db-4179-dcc9-3f572c26bf2c"
      },
      "execution_count": null,
      "outputs": [
        {
          "output_type": "stream",
          "name": "stdout",
          "text": [
            "['Ironman', 'Captain America', 'Thor', 'Hulk', 'Spiderman']\n"
          ]
        }
      ]
    },
    {
      "cell_type": "code",
      "source": [
        "# to add to a spectific location\n",
        "a.insert(3,\"Black Panther\")\n",
        "print(a)"
      ],
      "metadata": {
        "colab": {
          "base_uri": "https://localhost:8080/"
        },
        "id": "OpKO4yRNsJ3S",
        "outputId": "f9945650-4756-4d57-cb51-c3964538c12c"
      },
      "execution_count": null,
      "outputs": [
        {
          "output_type": "stream",
          "name": "stdout",
          "text": [
            "['Ironman', 'Captain America', 'Thor', 'Black Panther', 'Hulk', 'Spiderman']\n"
          ]
        }
      ]
    },
    {
      "cell_type": "code",
      "source": [
        "# to remove from a list\n",
        "a.remove(\"Black Panther\")\n",
        "print(a)\n",
        "a.remove(\"Thor\")\n",
        "print(a)"
      ],
      "metadata": {
        "colab": {
          "base_uri": "https://localhost:8080/"
        },
        "id": "pIahhMbQsOdn",
        "outputId": "6ca1c70c-dc1c-4f22-8d0a-26ace4522ced"
      },
      "execution_count": null,
      "outputs": [
        {
          "output_type": "stream",
          "name": "stdout",
          "text": [
            "['Ironman', 'Captain America', 'Thor', 'Hulk', 'Spiderman']\n",
            "['Ironman', 'Captain America', 'Hulk', 'Spiderman']\n"
          ]
        }
      ]
    },
    {
      "cell_type": "code",
      "source": [
        "# to remove from a certain location\n",
        "print(a.pop(1))\n",
        "print(a)"
      ],
      "metadata": {
        "colab": {
          "base_uri": "https://localhost:8080/"
        },
        "id": "M2lcBuzasS0f",
        "outputId": "fb46d159-87c0-48fe-d8e7-41ec0bdff83a"
      },
      "execution_count": null,
      "outputs": [
        {
          "output_type": "stream",
          "name": "stdout",
          "text": [
            "Captain America\n",
            "['Ironman', 'Hulk', 'Spiderman']\n"
          ]
        }
      ]
    },
    {
      "cell_type": "code",
      "source": [
        "# to create a copy of a list\n",
        "b=a.copy()\n",
        "print(b)"
      ],
      "metadata": {
        "colab": {
          "base_uri": "https://localhost:8080/"
        },
        "id": "nwGlzGPitK58",
        "outputId": "2f225663-5973-43a6-ed41-c3885cb33361"
      },
      "execution_count": null,
      "outputs": [
        {
          "output_type": "stream",
          "name": "stdout",
          "text": [
            "['Ironman', 'Hulk', 'Spiderman']\n"
          ]
        }
      ]
    },
    {
      "cell_type": "code",
      "source": [
        "# to access an element\n",
        "print(a[2])\n",
        "print(a.index(\"Hulk\"))"
      ],
      "metadata": {
        "colab": {
          "base_uri": "https://localhost:8080/"
        },
        "id": "9GS1xFWktZOX",
        "outputId": "86cf381f-9e42-4d45-b960-3ba08dcd7deb"
      },
      "execution_count": null,
      "outputs": [
        {
          "output_type": "stream",
          "name": "stdout",
          "text": [
            "Spiderman\n",
            "1\n"
          ]
        }
      ]
    },
    {
      "cell_type": "code",
      "source": [
        "# to entend the list\n",
        "c=[\"Antman\",\"Captain Marvel\"]\n",
        "a.extend(c)\n",
        "print(a)"
      ],
      "metadata": {
        "colab": {
          "base_uri": "https://localhost:8080/"
        },
        "id": "UZ2QVNCftc18",
        "outputId": "adec49ec-745a-48bf-b616-84b39e26055f"
      },
      "execution_count": null,
      "outputs": [
        {
          "output_type": "stream",
          "name": "stdout",
          "text": [
            "['Ironman', 'Hulk', 'Spiderman', 'Antman', 'Captain Marvel']\n"
          ]
        }
      ]
    },
    {
      "cell_type": "code",
      "source": [
        "# to reverse the list\n",
        "a.reverse()\n",
        "print(a)"
      ],
      "metadata": {
        "colab": {
          "base_uri": "https://localhost:8080/"
        },
        "id": "HA2mWYuitgDD",
        "outputId": "28da9005-d8f2-465e-c845-33b1c8173775"
      },
      "execution_count": null,
      "outputs": [
        {
          "output_type": "stream",
          "name": "stdout",
          "text": [
            "['Captain Marvel', 'Antman', 'Spiderman', 'Hulk', 'Ironman']\n"
          ]
        }
      ]
    },
    {
      "cell_type": "code",
      "source": [
        "# to short the list\n",
        "a.sort()\n",
        "print(a)\n",
        "a.sort(reverse=True)\n",
        "print(a)\n"
      ],
      "metadata": {
        "colab": {
          "base_uri": "https://localhost:8080/"
        },
        "id": "9HlrLAZ8tiSM",
        "outputId": "208580f5-4a44-4d92-eb8e-eae422b7acc7"
      },
      "execution_count": null,
      "outputs": [
        {
          "output_type": "stream",
          "name": "stdout",
          "text": [
            "['Antman', 'Captain Marvel', 'Hulk', 'Ironman', 'Spiderman']\n",
            "['Spiderman', 'Ironman', 'Hulk', 'Captain Marvel', 'Antman']\n"
          ]
        }
      ]
    },
    {
      "cell_type": "code",
      "source": [
        "# to clear all the data from the list\n",
        "a.clear()\n",
        "print(a)"
      ],
      "metadata": {
        "colab": {
          "base_uri": "https://localhost:8080/"
        },
        "id": "IM1FVktJtlYb",
        "outputId": "1a75ef96-857d-4449-905b-6821ea1b6d70"
      },
      "execution_count": null,
      "outputs": [
        {
          "output_type": "stream",
          "name": "stdout",
          "text": [
            "[]\n"
          ]
        }
      ]
    },
    {
      "cell_type": "markdown",
      "source": [
        "**list comprehension**"
      ],
      "metadata": {
        "id": "_bQNPIFAupRu"
      }
    },
    {
      "cell_type": "code",
      "source": [
        "li=[40,23,40]\n",
        "l2=[]\n",
        "for i in li:\n",
        "  if i >30 :\n",
        "    l2.append(i)\n",
        "print(l2)"
      ],
      "metadata": {
        "colab": {
          "base_uri": "https://localhost:8080/"
        },
        "id": "YerimLn7uumQ",
        "outputId": "cf35553d-9611-4461-c55d-e76e27f4b82b"
      },
      "execution_count": null,
      "outputs": [
        {
          "output_type": "stream",
          "name": "stdout",
          "text": [
            "[]\n"
          ]
        }
      ]
    },
    {
      "cell_type": "code",
      "source": [
        "l3=[i for i in li if i>30]\n",
        "print(l3)"
      ],
      "metadata": {
        "colab": {
          "base_uri": "https://localhost:8080/"
        },
        "id": "_sL5j1z9u4Q4",
        "outputId": "8b634611-0da5-4ca9-f764-3383b6e5ea96"
      },
      "execution_count": null,
      "outputs": [
        {
          "output_type": "stream",
          "name": "stdout",
          "text": [
            "[40, 40]\n"
          ]
        }
      ]
    },
    {
      "cell_type": "code",
      "source": [
        "l4=[i for i in li]\n",
        "print(l4)"
      ],
      "metadata": {
        "colab": {
          "base_uri": "https://localhost:8080/"
        },
        "id": "GT3aRacKvJP1",
        "outputId": "031caa20-e21a-4e52-cca4-0dab40f30c56"
      },
      "execution_count": null,
      "outputs": [
        {
          "output_type": "stream",
          "name": "stdout",
          "text": [
            "[40, 23, 40]\n"
          ]
        }
      ]
    },
    {
      "cell_type": "markdown",
      "source": [
        "# **problems**"
      ],
      "metadata": {
        "id": "DXkNKFVjvWuu"
      }
    },
    {
      "cell_type": "markdown",
      "source": [
        "**[\"Ross\",\"Rachel\",\"Monica\",\"Joe\"]**"
      ],
      "metadata": {
        "id": "u-_idXAkvbES"
      }
    },
    {
      "cell_type": "code",
      "source": [
        "A=[\"Ross\",\"Rachel\",\"Monica\",\"Joe\"]\n",
        "print(A)"
      ],
      "metadata": {
        "colab": {
          "base_uri": "https://localhost:8080/"
        },
        "id": "Z59negIjth1V",
        "outputId": "496232f1-6f23-4fc1-93cd-12f49b74b3c6"
      },
      "execution_count": null,
      "outputs": [
        {
          "output_type": "stream",
          "name": "stdout",
          "text": [
            "['Ross', 'Rachel', 'Monica', 'Joe']\n"
          ]
        }
      ]
    },
    {
      "cell_type": "markdown",
      "source": [
        "**write a program to swap first and forth element.**"
      ],
      "metadata": {
        "id": "w-23oJkRwRrI"
      }
    },
    {
      "cell_type": "code",
      "source": [
        "A[0],A[3]=A[3],A[0]\n",
        "print(A)"
      ],
      "metadata": {
        "colab": {
          "base_uri": "https://localhost:8080/"
        },
        "id": "7_h2UmO4tc2t",
        "outputId": "80d89f17-b692-4ae1-a9a0-b9bc73362049"
      },
      "execution_count": null,
      "outputs": [
        {
          "output_type": "stream",
          "name": "stdout",
          "text": [
            "['Joe', 'Rachel', 'Monica', 'Ross']\n"
          ]
        }
      ]
    },
    {
      "cell_type": "markdown",
      "source": [
        "**write a program to add a new value at second position.**"
      ],
      "metadata": {
        "id": "HA2AoGOrwbXX"
      }
    },
    {
      "cell_type": "code",
      "source": [
        "A.insert(1,\"Chandler\")\n",
        "print(A)"
      ],
      "metadata": {
        "colab": {
          "base_uri": "https://localhost:8080/"
        },
        "id": "jZFQjEdutyie",
        "outputId": "4e067397-d846-4c1a-d10f-673f091a4dd5"
      },
      "execution_count": null,
      "outputs": [
        {
          "output_type": "stream",
          "name": "stdout",
          "text": [
            "['Joe', 'Chandler', 'Rachel', 'Monica', 'Ross']\n"
          ]
        }
      ]
    },
    {
      "cell_type": "markdown",
      "source": [
        "**write a program to delete a value from 3 position.**"
      ],
      "metadata": {
        "id": "dbct0LfJwlX9"
      }
    },
    {
      "cell_type": "code",
      "source": [
        "A.pop(2)\n",
        "print(A)"
      ],
      "metadata": {
        "colab": {
          "base_uri": "https://localhost:8080/"
        },
        "id": "QQmZ5ftluJ7H",
        "outputId": "c705944b-115d-4eae-d36e-20c68d80396d"
      },
      "execution_count": null,
      "outputs": [
        {
          "output_type": "stream",
          "name": "stdout",
          "text": [
            "['Joe', 'Chandler', 'Monica', 'Ross']\n"
          ]
        }
      ]
    },
    {
      "cell_type": "markdown",
      "source": [
        "**[13,7,12,10]**"
      ],
      "metadata": {
        "id": "FZTEPk23wwjl"
      }
    },
    {
      "cell_type": "code",
      "source": [
        "B=[13,7,12,10]\n",
        "print(B)"
      ],
      "metadata": {
        "colab": {
          "base_uri": "https://localhost:8080/"
        },
        "id": "f07ARNY1uWxk",
        "outputId": "d91b610c-e973-4c0d-f709-a254c397e06e"
      },
      "execution_count": null,
      "outputs": [
        {
          "output_type": "stream",
          "name": "stdout",
          "text": [
            "[13, 7, 12, 10]\n"
          ]
        }
      ]
    },
    {
      "cell_type": "markdown",
      "source": [
        "**write a program to multiply all the numbers in the list.**"
      ],
      "metadata": {
        "id": "5uI9IXfvw1ub"
      }
    },
    {
      "cell_type": "code",
      "source": [
        "mul=1\n",
        "for i in B:\n",
        "  mul*=i\n",
        "print(mul)"
      ],
      "metadata": {
        "colab": {
          "base_uri": "https://localhost:8080/"
        },
        "id": "JTZpNnMjuSEg",
        "outputId": "4f7f6aea-83e5-4a62-e2a4-7cc86ef9eb3b"
      },
      "execution_count": null,
      "outputs": [
        {
          "output_type": "stream",
          "name": "stdout",
          "text": [
            "10920\n"
          ]
        }
      ]
    },
    {
      "cell_type": "markdown",
      "source": [
        "**write a program to get the largest number from the list.**"
      ],
      "metadata": {
        "id": "jz8XCtMAw9AO"
      }
    },
    {
      "cell_type": "code",
      "source": [
        "B.sort()\n",
        "print(B[-1])"
      ],
      "metadata": {
        "colab": {
          "base_uri": "https://localhost:8080/"
        },
        "id": "QEonUkmjusY0",
        "outputId": "fa79b077-2fda-4017-be72-cafac63e6161"
      },
      "execution_count": null,
      "outputs": [
        {
          "output_type": "stream",
          "name": "stdout",
          "text": [
            "13\n"
          ]
        }
      ]
    },
    {
      "cell_type": "markdown",
      "source": [
        "**write a program to get hte smallest number from the list.**"
      ],
      "metadata": {
        "id": "uqLDrQIkxOq-"
      }
    },
    {
      "cell_type": "code",
      "source": [
        "B.sort()\n",
        "print(B[0])"
      ],
      "metadata": {
        "colab": {
          "base_uri": "https://localhost:8080/"
        },
        "id": "KHoGTjouu_pU",
        "outputId": "aa57a770-c7c4-44fb-bd18-7ff5b0d90655"
      },
      "execution_count": null,
      "outputs": [
        {
          "output_type": "stream",
          "name": "stdout",
          "text": [
            "7\n"
          ]
        }
      ]
    },
    {
      "cell_type": "markdown",
      "source": [
        "# Tuples"
      ],
      "metadata": {
        "id": "U8lBVKudvhb6"
      }
    },
    {
      "cell_type": "code",
      "source": [
        "# ordered and un-mutable data\n",
        "# ---> ()\n",
        "# ---> un-mutable no add , update , remove\n",
        "# ---> separated by coma(,)\n",
        "# ---> multiple datatype in it\n"
      ],
      "metadata": {
        "id": "QZR9aFarvox0"
      },
      "execution_count": null,
      "outputs": []
    },
    {
      "cell_type": "code",
      "source": [
        "a=(\"apple\",\"mango\",\"banana\")\n",
        "print(type(a))"
      ],
      "metadata": {
        "colab": {
          "base_uri": "https://localhost:8080/"
        },
        "id": "fUeWOllOwIEE",
        "outputId": "01965f78-a889-40ac-8d8c-ea4ab6c07367"
      },
      "execution_count": null,
      "outputs": [
        {
          "output_type": "stream",
          "name": "stdout",
          "text": [
            "<class 'tuple'>\n"
          ]
        }
      ]
    },
    {
      "cell_type": "code",
      "source": [
        "a=\"apple\",\"mango\",\"banana\",16,1.34\n",
        "print(type(a))\n"
      ],
      "metadata": {
        "colab": {
          "base_uri": "https://localhost:8080/"
        },
        "id": "R6ykJugqwReP",
        "outputId": "8c7a54f2-e6b1-40a1-f8d7-10beda48b728"
      },
      "execution_count": null,
      "outputs": [
        {
          "output_type": "stream",
          "name": "stdout",
          "text": [
            "<class 'tuple'>\n"
          ]
        }
      ]
    },
    {
      "cell_type": "code",
      "source": [
        "b=\"ironman\"\n",
        "print(type(b))"
      ],
      "metadata": {
        "colab": {
          "base_uri": "https://localhost:8080/"
        },
        "id": "hdlasz4Ywgkt",
        "outputId": "2c2deb23-a514-4a08-8ea5-b5c934069ec2"
      },
      "execution_count": null,
      "outputs": [
        {
          "output_type": "stream",
          "name": "stdout",
          "text": [
            "<class 'str'>\n"
          ]
        }
      ]
    },
    {
      "cell_type": "code",
      "source": [
        "b=\"ironman\",\n",
        "print(type(b))"
      ],
      "metadata": {
        "colab": {
          "base_uri": "https://localhost:8080/"
        },
        "id": "8NQB0Od1woRL",
        "outputId": "ba394ed9-e9c3-46a5-f99e-b25d6ada0b05"
      },
      "execution_count": null,
      "outputs": [
        {
          "output_type": "stream",
          "name": "stdout",
          "text": [
            "<class 'tuple'>\n"
          ]
        }
      ]
    },
    {
      "cell_type": "markdown",
      "source": [
        "**slicing and iteration in typles**"
      ],
      "metadata": {
        "id": "510F-z0iwvGC"
      }
    },
    {
      "cell_type": "code",
      "source": [
        "a=(\"OnePlus\",\"Vivo\",\"Redmi\",\"SumSung\",\"Nokia\")\n",
        "print(a[1:3])"
      ],
      "metadata": {
        "colab": {
          "base_uri": "https://localhost:8080/"
        },
        "id": "7_IInUBswuMu",
        "outputId": "7169b48e-7715-47d2-81d7-e975903e4be2"
      },
      "execution_count": null,
      "outputs": [
        {
          "output_type": "stream",
          "name": "stdout",
          "text": [
            "('Vivo', 'Redmi')\n"
          ]
        }
      ]
    },
    {
      "cell_type": "code",
      "source": [
        "print(a[:3])"
      ],
      "metadata": {
        "colab": {
          "base_uri": "https://localhost:8080/"
        },
        "id": "pUtw7u9TxH29",
        "outputId": "e1538336-f41d-4184-e7f8-60bcd13b967a"
      },
      "execution_count": null,
      "outputs": [
        {
          "output_type": "stream",
          "name": "stdout",
          "text": [
            "('OnePlus', 'Vivo', 'Redmi')\n"
          ]
        }
      ]
    },
    {
      "cell_type": "code",
      "source": [
        "print(a[2:])"
      ],
      "metadata": {
        "colab": {
          "base_uri": "https://localhost:8080/"
        },
        "id": "SeXUqVzIxOnB",
        "outputId": "684ad7c2-811f-447a-ecbd-161e99645fc5"
      },
      "execution_count": null,
      "outputs": [
        {
          "output_type": "stream",
          "name": "stdout",
          "text": [
            "('Redmi', 'SumSung', 'Nokia')\n"
          ]
        }
      ]
    },
    {
      "cell_type": "code",
      "source": [
        "print(a[1::2])"
      ],
      "metadata": {
        "colab": {
          "base_uri": "https://localhost:8080/"
        },
        "id": "F55g-99zxc10",
        "outputId": "c2c1ffa8-1abe-4e83-b749-561b126a8028"
      },
      "execution_count": null,
      "outputs": [
        {
          "output_type": "stream",
          "name": "stdout",
          "text": [
            "('Vivo', 'SumSung')\n"
          ]
        }
      ]
    },
    {
      "cell_type": "code",
      "source": [
        "print(a[::-1])"
      ],
      "metadata": {
        "colab": {
          "base_uri": "https://localhost:8080/"
        },
        "id": "fQRUec14xmp6",
        "outputId": "fe8fa899-65d2-464a-e98d-dafa44b8b295"
      },
      "execution_count": null,
      "outputs": [
        {
          "output_type": "stream",
          "name": "stdout",
          "text": [
            "('Nokia', 'SumSung', 'Redmi', 'Vivo', 'OnePlus')\n"
          ]
        }
      ]
    },
    {
      "cell_type": "code",
      "source": [
        "print(a[2::-1])"
      ],
      "metadata": {
        "colab": {
          "base_uri": "https://localhost:8080/"
        },
        "id": "R8pC4jMsxr43",
        "outputId": "b78e1334-295a-4903-b72e-0697d681ccd3"
      },
      "execution_count": null,
      "outputs": [
        {
          "output_type": "stream",
          "name": "stdout",
          "text": [
            "('Redmi', 'Vivo', 'OnePlus')\n"
          ]
        }
      ]
    },
    {
      "cell_type": "code",
      "source": [
        "for i in a:\n",
        "  print(i)"
      ],
      "metadata": {
        "colab": {
          "base_uri": "https://localhost:8080/"
        },
        "id": "wIhuZGQixwoe",
        "outputId": "e7a1a1bb-c387-44aa-8e29-886ea1885cde"
      },
      "execution_count": null,
      "outputs": [
        {
          "output_type": "stream",
          "name": "stdout",
          "text": [
            "OnePlus\n",
            "Vivo\n",
            "Redmi\n",
            "SumSung\n",
            "Nokia\n"
          ]
        }
      ]
    },
    {
      "cell_type": "code",
      "source": [
        "for i in range(len(a)):\n",
        "  print(a[i])"
      ],
      "metadata": {
        "colab": {
          "base_uri": "https://localhost:8080/"
        },
        "id": "cHp8-0TlyIyK",
        "outputId": "e7b1c1be-b569-4816-9b4c-b317c5773794"
      },
      "execution_count": null,
      "outputs": [
        {
          "output_type": "stream",
          "name": "stdout",
          "text": [
            "OnePlus\n",
            "Vivo\n",
            "Redmi\n",
            "SumSung\n",
            "Nokia\n"
          ]
        }
      ]
    },
    {
      "cell_type": "code",
      "source": [
        "i=0\n",
        "while i<len(a):\n",
        "  print(a[i])\n",
        "  i+=1"
      ],
      "metadata": {
        "colab": {
          "base_uri": "https://localhost:8080/"
        },
        "id": "b3fMhs0WyWGc",
        "outputId": "0476c24f-4eb2-478d-e87f-7c8eb0107b54"
      },
      "execution_count": null,
      "outputs": [
        {
          "output_type": "stream",
          "name": "stdout",
          "text": [
            "OnePlus\n",
            "Vivo\n",
            "Redmi\n",
            "SumSung\n",
            "Nokia\n"
          ]
        }
      ]
    },
    {
      "cell_type": "markdown",
      "source": [
        "**convertion of tuples and tuples funtions**"
      ],
      "metadata": {
        "id": "PkKIoYqzzOXy"
      }
    },
    {
      "cell_type": "code",
      "source": [
        "a=(\"OnePlus\",\"Vivo\",\"Redmi\",\"SumSung\",\"Nokia\",\"Vivo\")\n",
        "print(a.index(\"Redmi\"))\n",
        "print(\"before convertion \",type(a))"
      ],
      "metadata": {
        "colab": {
          "base_uri": "https://localhost:8080/"
        },
        "id": "q8rys8pSzCNG",
        "outputId": "3db6ca57-36df-4ec1-a3cb-b527a85fccc6"
      },
      "execution_count": null,
      "outputs": [
        {
          "output_type": "stream",
          "name": "stdout",
          "text": [
            "2\n",
            "before convertion  <class 'tuple'>\n"
          ]
        }
      ]
    },
    {
      "cell_type": "code",
      "source": [
        "a=list(a)\n",
        "print(\"after convertion \",type(a))"
      ],
      "metadata": {
        "colab": {
          "base_uri": "https://localhost:8080/"
        },
        "id": "0ZbLscSTzcm-",
        "outputId": "0e05e2fa-911a-4fff-d690-97fd7306a8b7"
      },
      "execution_count": null,
      "outputs": [
        {
          "output_type": "stream",
          "name": "stdout",
          "text": [
            "after convertion  <class 'list'>\n"
          ]
        }
      ]
    },
    {
      "cell_type": "code",
      "source": [
        "a.append(\"Iphone\")"
      ],
      "metadata": {
        "id": "GqbQgU5jzqLB"
      },
      "execution_count": null,
      "outputs": []
    },
    {
      "cell_type": "code",
      "source": [
        "print(a)"
      ],
      "metadata": {
        "colab": {
          "base_uri": "https://localhost:8080/"
        },
        "id": "9Gc0fJZkzvyx",
        "outputId": "d1ba0273-f162-4a42-d052-462827d50d62"
      },
      "execution_count": null,
      "outputs": [
        {
          "output_type": "stream",
          "name": "stdout",
          "text": [
            "['OnePlus', 'Vivo', 'Redmi', 'SumSung', 'Nokia', 'Iphone']\n"
          ]
        }
      ]
    },
    {
      "cell_type": "code",
      "source": [
        "a=tuple(a)"
      ],
      "metadata": {
        "id": "aq28OCSNzx1V"
      },
      "execution_count": null,
      "outputs": []
    },
    {
      "cell_type": "code",
      "source": [
        "print(type(a))"
      ],
      "metadata": {
        "colab": {
          "base_uri": "https://localhost:8080/"
        },
        "id": "C83EsPw4z1Ke",
        "outputId": "23283085-fcf5-4ad5-bb77-354a99372262"
      },
      "execution_count": null,
      "outputs": [
        {
          "output_type": "stream",
          "name": "stdout",
          "text": [
            "<class 'tuple'>\n"
          ]
        }
      ]
    },
    {
      "cell_type": "code",
      "source": [
        "a.count(\"Vivo\")"
      ],
      "metadata": {
        "colab": {
          "base_uri": "https://localhost:8080/"
        },
        "id": "xud08mD-0CEG",
        "outputId": "d4cc8b68-d58e-4e43-e7aa-d059824de992"
      },
      "execution_count": null,
      "outputs": [
        {
          "output_type": "execute_result",
          "data": {
            "text/plain": [
              "2"
            ]
          },
          "metadata": {},
          "execution_count": 40
        }
      ]
    },
    {
      "cell_type": "markdown",
      "source": [
        "# Dictionary"
      ],
      "metadata": {
        "id": "E3gNL-Re8is7"
      }
    },
    {
      "cell_type": "code",
      "source": [
        "# write data in the form of keys and values\n",
        "# ---> enclosed inside curly brackets{}\n",
        "# --->  key values separated by colon\n",
        "# ---> every key pair separated by a coma(,)"
      ],
      "metadata": {
        "id": "d4LpaReQ8lv8"
      },
      "execution_count": null,
      "outputs": []
    },
    {
      "cell_type": "code",
      "source": [
        "employee={\"name\":\"David\",\"age\":24,\"gender\":\"male\"}\n",
        "print(employee)"
      ],
      "metadata": {
        "colab": {
          "base_uri": "https://localhost:8080/"
        },
        "id": "kyxS_Jr59A27",
        "outputId": "01110ca5-29d7-4785-a347-40a0f934d370"
      },
      "execution_count": null,
      "outputs": [
        {
          "output_type": "stream",
          "name": "stdout",
          "text": [
            "{'name': 'David', 'age': 24, 'gender': 'male'}\n"
          ]
        }
      ]
    },
    {
      "cell_type": "code",
      "source": [
        "print(employee[\"gender\"])\n",
        "print(employee.values())"
      ],
      "metadata": {
        "colab": {
          "base_uri": "https://localhost:8080/"
        },
        "id": "yNQGCeWLFeit",
        "outputId": "d2ca8a15-eedd-4bca-9f7b-a90f781ebca7"
      },
      "execution_count": null,
      "outputs": [
        {
          "output_type": "stream",
          "name": "stdout",
          "text": [
            "male\n",
            "dict_values(['David', 24, 'male'])\n"
          ]
        }
      ]
    },
    {
      "cell_type": "code",
      "source": [
        "# iteration in dictionary"
      ],
      "metadata": {
        "id": "_L75gENXFp69"
      },
      "execution_count": null,
      "outputs": []
    },
    {
      "cell_type": "code",
      "source": [
        "for x in employee:\n",
        "  print(x)"
      ],
      "metadata": {
        "colab": {
          "base_uri": "https://localhost:8080/"
        },
        "id": "EFY9Jr0dFt5K",
        "outputId": "01579a81-2cc9-4134-f9d8-b826d6db1e90"
      },
      "execution_count": null,
      "outputs": [
        {
          "output_type": "stream",
          "name": "stdout",
          "text": [
            "name\n",
            "age\n",
            "gender\n"
          ]
        }
      ]
    },
    {
      "cell_type": "code",
      "source": [
        "for i in employee:\n",
        "  print(employee[i])"
      ],
      "metadata": {
        "colab": {
          "base_uri": "https://localhost:8080/"
        },
        "id": "cwmKjgTuGsZl",
        "outputId": "13945707-26ff-4301-aebe-791844fcb422"
      },
      "execution_count": null,
      "outputs": [
        {
          "output_type": "stream",
          "name": "stdout",
          "text": [
            "David\n",
            "24\n",
            "male\n"
          ]
        }
      ]
    },
    {
      "cell_type": "code",
      "source": [
        "print(employee.keys())"
      ],
      "metadata": {
        "colab": {
          "base_uri": "https://localhost:8080/"
        },
        "id": "nQNWPLk1G7o1",
        "outputId": "484a46bf-fdda-4513-a258-b41b6687dd55"
      },
      "execution_count": null,
      "outputs": [
        {
          "output_type": "stream",
          "name": "stdout",
          "text": [
            "dict_keys(['name', 'age', 'gender'])\n"
          ]
        }
      ]
    },
    {
      "cell_type": "code",
      "source": [
        "for i,j in employee.items():\n",
        "  print(i,j)"
      ],
      "metadata": {
        "colab": {
          "base_uri": "https://localhost:8080/"
        },
        "id": "MT_MjCPjHA1p",
        "outputId": "7b47f850-2ab6-4c47-bcb2-ab7f17cc8238"
      },
      "execution_count": null,
      "outputs": [
        {
          "output_type": "stream",
          "name": "stdout",
          "text": [
            "name David\n",
            "age 24\n",
            "gender male\n"
          ]
        }
      ]
    },
    {
      "cell_type": "code",
      "source": [
        "# dictionary functions\n",
        "Student={\"name\":\"Jon\",\"class\":\"6th\",\"roll_no\":23}\n",
        "print(Student)"
      ],
      "metadata": {
        "colab": {
          "base_uri": "https://localhost:8080/"
        },
        "id": "tVcEZYeiHLKQ",
        "outputId": "5ac3021a-1b8e-427a-8bd9-ccd7432158be"
      },
      "execution_count": null,
      "outputs": [
        {
          "output_type": "stream",
          "name": "stdout",
          "text": [
            "{'name': 'Jon', 'class': '6th', 'roll_no': 23}\n"
          ]
        }
      ]
    },
    {
      "cell_type": "code",
      "source": [
        "# get\n",
        "x=Student.get(\"name\")\n",
        "print(x)"
      ],
      "metadata": {
        "colab": {
          "base_uri": "https://localhost:8080/"
        },
        "id": "3703spcXHOsu",
        "outputId": "025ea5c8-f664-4a27-8aa7-a1641d2fa6a7"
      },
      "execution_count": null,
      "outputs": [
        {
          "output_type": "stream",
          "name": "stdout",
          "text": [
            "Jon\n"
          ]
        }
      ]
    },
    {
      "cell_type": "code",
      "source": [
        "# items\n",
        "x=Student.items()\n",
        "print(x)"
      ],
      "metadata": {
        "colab": {
          "base_uri": "https://localhost:8080/"
        },
        "id": "8O8zy3EqHQvY",
        "outputId": "9bcfbfb0-b641-4c81-8abf-bf35f7144138"
      },
      "execution_count": null,
      "outputs": [
        {
          "output_type": "stream",
          "name": "stdout",
          "text": [
            "dict_items([('name', 'Jon'), ('class', '6th'), ('roll_no', 23)])\n"
          ]
        }
      ]
    },
    {
      "cell_type": "code",
      "source": [
        "# keys\n",
        "x=Student.keys()\n",
        "print(x)"
      ],
      "metadata": {
        "colab": {
          "base_uri": "https://localhost:8080/"
        },
        "id": "ysqIG6s3HSzL",
        "outputId": "3b9c6f1f-8f05-4e8e-ec85-754c3efa8073"
      },
      "execution_count": null,
      "outputs": [
        {
          "output_type": "stream",
          "name": "stdout",
          "text": [
            "dict_keys(['name', 'class', 'roll_no'])\n"
          ]
        }
      ]
    },
    {
      "cell_type": "code",
      "source": [
        "# values\n",
        "x=Student.values()\n",
        "print(x)"
      ],
      "metadata": {
        "colab": {
          "base_uri": "https://localhost:8080/"
        },
        "id": "iEwAPqARHUhj",
        "outputId": "8476a290-5a5c-47ce-eaf0-c0bb8767ee96"
      },
      "execution_count": null,
      "outputs": [
        {
          "output_type": "stream",
          "name": "stdout",
          "text": [
            "dict_values(['Jon', '6th', 23])\n"
          ]
        }
      ]
    },
    {
      "cell_type": "code",
      "source": [
        "# copy\n",
        "d=Student.copy()\n",
        "print(d)"
      ],
      "metadata": {
        "colab": {
          "base_uri": "https://localhost:8080/"
        },
        "id": "ciPMGLgKHWVt",
        "outputId": "1db35c31-663a-42cf-ec1d-35a5d300046d"
      },
      "execution_count": null,
      "outputs": [
        {
          "output_type": "stream",
          "name": "stdout",
          "text": [
            "{'name': 'Jon', 'class': '6th', 'roll_no': 23}\n"
          ]
        }
      ]
    },
    {
      "cell_type": "code",
      "source": [
        "# setdefault\n",
        "x=Student.setdefault(\"name\",\"David\")\n",
        "print(x)"
      ],
      "metadata": {
        "colab": {
          "base_uri": "https://localhost:8080/"
        },
        "id": "pC_po53-ICCu",
        "outputId": "24595aea-66cc-4cec-95de-2956bed88028"
      },
      "execution_count": null,
      "outputs": [
        {
          "output_type": "stream",
          "name": "stdout",
          "text": [
            "Jon\n"
          ]
        }
      ]
    },
    {
      "cell_type": "code",
      "source": [
        "# update\n",
        "Student.update({\"name\":\"David\"})\n",
        "print(Student)"
      ],
      "metadata": {
        "colab": {
          "base_uri": "https://localhost:8080/"
        },
        "id": "hetA2vBhIJav",
        "outputId": "b2963407-3828-429a-d8de-15a6ad7455a1"
      },
      "execution_count": null,
      "outputs": [
        {
          "output_type": "stream",
          "name": "stdout",
          "text": [
            "{'name': 'David', 'class': '6th', 'roll_no': 23}\n"
          ]
        }
      ]
    },
    {
      "cell_type": "code",
      "source": [
        "# pop\n",
        "Student.pop(\"name\")\n",
        "print(Student)"
      ],
      "metadata": {
        "colab": {
          "base_uri": "https://localhost:8080/"
        },
        "id": "6z4Yi0UZIK6j",
        "outputId": "5175cd37-918e-4e65-b71a-749ac5dabfef"
      },
      "execution_count": null,
      "outputs": [
        {
          "output_type": "stream",
          "name": "stdout",
          "text": [
            "{'class': '6th', 'roll_no': 23}\n"
          ]
        }
      ]
    },
    {
      "cell_type": "code",
      "source": [
        "# popitems\n",
        "Student.popitem()\n",
        "print(Student)"
      ],
      "metadata": {
        "colab": {
          "base_uri": "https://localhost:8080/"
        },
        "id": "uS3IFh4TIL5F",
        "outputId": "1939d16b-e2fd-4900-9a75-e07ace7edef7"
      },
      "execution_count": null,
      "outputs": [
        {
          "output_type": "stream",
          "name": "stdout",
          "text": [
            "{'class': '6th'}\n"
          ]
        }
      ]
    },
    {
      "cell_type": "code",
      "source": [
        "# clear\n",
        "Student.clear()\n",
        "print(Student)"
      ],
      "metadata": {
        "colab": {
          "base_uri": "https://localhost:8080/"
        },
        "id": "SDACa_L4IOHc",
        "outputId": "1a39f29a-6596-4107-b236-5de720c5e9c2"
      },
      "execution_count": null,
      "outputs": [
        {
          "output_type": "stream",
          "name": "stdout",
          "text": [
            "{}\n"
          ]
        }
      ]
    },
    {
      "cell_type": "code",
      "source": [
        "# NESTED DICTIONARY\n",
        "# ---> dictionary inside a dictionary"
      ],
      "metadata": {
        "id": "rF2z_b0TIvpz"
      },
      "execution_count": null,
      "outputs": []
    },
    {
      "cell_type": "code",
      "source": [
        "employee={1:{\"name\":\"Jon\",\"age\":23},\n",
        "          2:{\"name\":\"Lisa\",\"age\":24},\n",
        "          3:{\"name\":\"David\",\"age\":25}}\n",
        "print(employee)"
      ],
      "metadata": {
        "colab": {
          "base_uri": "https://localhost:8080/"
        },
        "id": "4Y8pzRIBI4WI",
        "outputId": "82fdb679-82df-458e-cfea-c17a94e23063"
      },
      "execution_count": null,
      "outputs": [
        {
          "output_type": "stream",
          "name": "stdout",
          "text": [
            "{1: {'name': 'Jon', 'age': 23}, 2: {'name': 'Lisa', 'age': 24}, 3: {'name': 'David', 'age': 25}}\n"
          ]
        }
      ]
    },
    {
      "cell_type": "code",
      "source": [
        "print(employee[1])"
      ],
      "metadata": {
        "colab": {
          "base_uri": "https://localhost:8080/"
        },
        "id": "IZka4ozpJuDK",
        "outputId": "665764a8-333a-4487-f80d-8aadfc97e4ac"
      },
      "execution_count": null,
      "outputs": [
        {
          "output_type": "stream",
          "name": "stdout",
          "text": [
            "{'name': 'Jon', 'age': 23}\n"
          ]
        }
      ]
    },
    {
      "cell_type": "code",
      "source": [
        "print(employee[2][\"name\"])\n"
      ],
      "metadata": {
        "colab": {
          "base_uri": "https://localhost:8080/"
        },
        "id": "Wc_aPZghJ-eb",
        "outputId": "55578721-b5e7-45e4-9793-67f0a41d8a5e"
      },
      "execution_count": null,
      "outputs": [
        {
          "output_type": "stream",
          "name": "stdout",
          "text": [
            "Lisa\n"
          ]
        }
      ]
    },
    {
      "cell_type": "markdown",
      "source": [
        "# **JSON**"
      ],
      "metadata": {
        "id": "dnoUkuBh3u8M"
      }
    },
    {
      "cell_type": "code",
      "source": [
        "import json\n",
        "# java script object notation\n",
        "json_data='{\"name\":\"David\",\"age\":13,\"markes\":87}'\n",
        "print(type(json_data))"
      ],
      "metadata": {
        "colab": {
          "base_uri": "https://localhost:8080/"
        },
        "id": "To3Y8a9M3x9r",
        "outputId": "b6b2c833-d1d2-4d98-e91e-1c0112c6a58b"
      },
      "execution_count": null,
      "outputs": [
        {
          "output_type": "stream",
          "name": "stdout",
          "text": [
            "<class 'str'>\n"
          ]
        }
      ]
    },
    {
      "cell_type": "code",
      "source": [
        "# to load\n",
        "x=json.loads(json_data)\n",
        "print(type(x))"
      ],
      "metadata": {
        "colab": {
          "base_uri": "https://localhost:8080/"
        },
        "id": "U619aueq4wSk",
        "outputId": "df2843c6-9962-404c-a2a4-b99b412b440f"
      },
      "execution_count": null,
      "outputs": [
        {
          "output_type": "stream",
          "name": "stdout",
          "text": [
            "<class 'dict'>\n"
          ]
        }
      ]
    },
    {
      "cell_type": "code",
      "source": [
        "x[\"age\"]"
      ],
      "metadata": {
        "colab": {
          "base_uri": "https://localhost:8080/"
        },
        "id": "H9Z1C4nP42Pg",
        "outputId": "c087f9d6-8e39-40e5-9ce4-0375b51847aa"
      },
      "execution_count": null,
      "outputs": [
        {
          "output_type": "execute_result",
          "data": {
            "text/plain": [
              "13"
            ]
          },
          "metadata": {},
          "execution_count": 57
        }
      ]
    },
    {
      "cell_type": "markdown",
      "source": [
        "# **Problems**"
      ],
      "metadata": {
        "id": "qgNLzwye0cwq"
      }
    },
    {
      "cell_type": "markdown",
      "source": [
        "**write a python program to sort a dictionary values**"
      ],
      "metadata": {
        "id": "kNA2JQeAKUUH"
      }
    },
    {
      "cell_type": "code",
      "source": [
        "a={\"a\":1,\"b\":2,\"c\":3}\n",
        "print(a)\n",
        "a=sorted(a.values())\n",
        "print(a)"
      ],
      "metadata": {
        "colab": {
          "base_uri": "https://localhost:8080/"
        },
        "id": "ZuBfiuVQK-Vz",
        "outputId": "655620c8-db5b-4635-a207-656fe53a388e"
      },
      "execution_count": null,
      "outputs": [
        {
          "output_type": "stream",
          "name": "stdout",
          "text": [
            "{'a': 1, 'b': 2, 'c': 3}\n",
            "[1, 2, 3]\n"
          ]
        }
      ]
    },
    {
      "cell_type": "markdown",
      "source": [
        "**write a python script to print a dictionary where th keys are numbers between 1 to 15 and values are square of keys**"
      ],
      "metadata": {
        "id": "_ElJYJZqKbuY"
      }
    },
    {
      "cell_type": "code",
      "source": [
        "a={}\n",
        "for i in range(1,16):\n",
        "  a[i]=i**2\n",
        "print(a)"
      ],
      "metadata": {
        "colab": {
          "base_uri": "https://localhost:8080/"
        },
        "id": "JXPu4Z3_LPxn",
        "outputId": "792db563-7f5d-4910-d4f7-4670dacec0b2"
      },
      "execution_count": null,
      "outputs": [
        {
          "output_type": "stream",
          "name": "stdout",
          "text": [
            "{1: 1, 2: 4, 3: 9, 4: 16, 5: 25, 6: 36, 7: 49, 8: 64, 9: 81, 10: 100, 11: 121, 12: 144, 13: 169, 14: 196, 15: 225}\n"
          ]
        }
      ]
    },
    {
      "cell_type": "markdown",
      "source": [
        "**write a program to multiply all items in a dictionary**"
      ],
      "metadata": {
        "id": "gW93UBvYKv-N"
      }
    },
    {
      "cell_type": "code",
      "source": [
        "a={\"a\":1,\"b\":2,\"c\":3}\n",
        "mul=1\n",
        "for i in a:\n",
        "  mul*=a[i]\n",
        "print(mul)"
      ],
      "metadata": {
        "colab": {
          "base_uri": "https://localhost:8080/"
        },
        "id": "mzQgeA8nK2gK",
        "outputId": "f11f6653-a5e7-49eb-f3af-36a9e7871b18"
      },
      "execution_count": null,
      "outputs": [
        {
          "output_type": "stream",
          "name": "stdout",
          "text": [
            "6\n"
          ]
        }
      ]
    },
    {
      "cell_type": "code",
      "source": [
        "a={\"a\":1,\"b\":2,\"c\":3}\n",
        "mul=1\n",
        "for i in a.values():\n",
        "  mul*=i\n",
        "print(mul)"
      ],
      "metadata": {
        "colab": {
          "base_uri": "https://localhost:8080/"
        },
        "id": "mQnYraOqL5LM",
        "outputId": "0c977f60-4f9c-41c7-abcc-cecfdba74fef"
      },
      "execution_count": null,
      "outputs": [
        {
          "output_type": "stream",
          "name": "stdout",
          "text": [
            "6\n"
          ]
        }
      ]
    },
    {
      "cell_type": "markdown",
      "source": [
        "**write a python program to short a dictionary by key**"
      ],
      "metadata": {
        "id": "U5V95Tx8K3pB"
      }
    },
    {
      "cell_type": "code",
      "source": [
        "a={1:\"a\",2:\"b\",3:\"c\",4:\"d\"}\n",
        "a=sorted(a.keys())\n",
        "print(a)"
      ],
      "metadata": {
        "colab": {
          "base_uri": "https://localhost:8080/"
        },
        "id": "iTkr3PmbMC0q",
        "outputId": "194fe513-e853-4766-c04e-ad3733388eed"
      },
      "execution_count": null,
      "outputs": [
        {
          "output_type": "stream",
          "name": "stdout",
          "text": [
            "[1, 2, 3, 4]\n"
          ]
        }
      ]
    },
    {
      "cell_type": "markdown",
      "source": [
        "**student_data={\"name\":\"David\",\"age\":13,\"markes\":87}**"
      ],
      "metadata": {
        "id": "WGQiachu0hV4"
      }
    },
    {
      "cell_type": "code",
      "source": [
        "student_data={\"name\":\"David\",\"age\":13,\"markes\":87}\n",
        "print(student_data)"
      ],
      "metadata": {
        "colab": {
          "base_uri": "https://localhost:8080/"
        },
        "id": "QKr9dW0p01Er",
        "outputId": "55ed0c0d-0b51-40b6-f9b6-62408a5a5efb"
      },
      "execution_count": null,
      "outputs": [
        {
          "output_type": "stream",
          "name": "stdout",
          "text": [
            "{'name': 'David', 'age': 13, 'markes': 87}\n"
          ]
        }
      ]
    },
    {
      "cell_type": "markdown",
      "source": [
        "**convert the dic into JSON format**"
      ],
      "metadata": {
        "id": "mMi6enAX1Gzb"
      }
    },
    {
      "cell_type": "code",
      "source": [
        "import json\n",
        "print(type(student_data))\n",
        "student_data_json=json.dumps(student_data)\n",
        "print(type(student_data_json))\n",
        "print(student_data_json)"
      ],
      "metadata": {
        "colab": {
          "base_uri": "https://localhost:8080/"
        },
        "id": "sxubOuRP1tyR",
        "outputId": "b490aca8-2cf3-4306-cd71-a29b04de4f17"
      },
      "execution_count": null,
      "outputs": [
        {
          "output_type": "stream",
          "name": "stdout",
          "text": [
            "<class 'dict'>\n",
            "<class 'str'>\n",
            "{\"name\": \"David\", \"age\": 13, \"markes\": 87}\n"
          ]
        }
      ]
    },
    {
      "cell_type": "markdown",
      "source": [
        "**Acess the value of age from the given data**"
      ],
      "metadata": {
        "id": "ORLve5by1OT-"
      }
    },
    {
      "cell_type": "code",
      "source": [
        "data =json.loads(student_data_json)\n",
        "print(data[\"age\"])"
      ],
      "metadata": {
        "colab": {
          "base_uri": "https://localhost:8080/"
        },
        "id": "-Zwrr3DD2Gjs",
        "outputId": "c42605e7-d095-45f1-cdfb-c3f0972a5114"
      },
      "execution_count": null,
      "outputs": [
        {
          "output_type": "stream",
          "name": "stdout",
          "text": [
            "13\n"
          ]
        }
      ]
    },
    {
      "cell_type": "markdown",
      "source": [
        "**pretty print JSON data**"
      ],
      "metadata": {
        "id": "FK_qpuYv1UdG"
      }
    },
    {
      "cell_type": "code",
      "source": [
        "data=json.dumps(student_data,indent=4,separators=(\".\",\"=\"))\n",
        "print(data)"
      ],
      "metadata": {
        "colab": {
          "base_uri": "https://localhost:8080/"
        },
        "id": "iG0jdVnv2dCQ",
        "outputId": "c5b2eb6b-50c0-43e8-8076-7df24ce0dcc7"
      },
      "execution_count": null,
      "outputs": [
        {
          "output_type": "stream",
          "name": "stdout",
          "text": [
            "{\n",
            "    \"name\"=\"David\".\n",
            "    \"age\"=13.\n",
            "    \"markes\"=87\n",
            "}\n"
          ]
        }
      ]
    },
    {
      "cell_type": "markdown",
      "source": [
        "**sort the following Json keys and write them into a file**"
      ],
      "metadata": {
        "id": "2QwSmlB21aaG"
      }
    },
    {
      "cell_type": "code",
      "source": [
        "with open (\"sample.json\",\"w\") as f:\n",
        "  json.dump(student_data,f,indent=4,sort_keys=True)"
      ],
      "metadata": {
        "id": "-iuF2xMH2ziF"
      },
      "execution_count": null,
      "outputs": []
    },
    {
      "cell_type": "markdown",
      "source": [
        "**Access the nested key marks from the following nested data**"
      ],
      "metadata": {
        "id": "WqVj0ZHx6asY"
      }
    },
    {
      "cell_type": "code",
      "source": [
        "student_data2=\"\"\"{\"student\":{\n",
        "  \"grade\":{\n",
        "    \"name\":\"David\",\n",
        "    \"marks\":{\n",
        "      \"physics\":70}\n",
        "\n",
        "    }}}\"\"\""
      ],
      "metadata": {
        "id": "VmHwqcj76A-b"
      },
      "execution_count": null,
      "outputs": []
    },
    {
      "cell_type": "code",
      "source": [
        "data =json.loads(student_data2)"
      ],
      "metadata": {
        "id": "FdDQvvLS7Vs_"
      },
      "execution_count": null,
      "outputs": []
    },
    {
      "cell_type": "code",
      "source": [
        "print(data[\"student\"][\"grade\"][\"marks\"])"
      ],
      "metadata": {
        "colab": {
          "base_uri": "https://localhost:8080/"
        },
        "id": "brh-utAT7cgt",
        "outputId": "a51daf06-751c-458a-ce40-8d2538163c23"
      },
      "execution_count": null,
      "outputs": [
        {
          "output_type": "stream",
          "name": "stdout",
          "text": [
            "{'physics': 70}\n"
          ]
        }
      ]
    },
    {
      "cell_type": "markdown",
      "source": [
        "# sets"
      ],
      "metadata": {
        "id": "K8s3KzhfNEjB"
      }
    },
    {
      "cell_type": "code",
      "source": [
        "# unordered collection of data\n",
        "# --> no indexing\n",
        "# --> unique\n",
        "# --> mutable\n",
        "# --> inside a curly brakets {}\n",
        "# --> separated by coma ,"
      ],
      "metadata": {
        "id": "V-1sfPcjNHWd"
      },
      "execution_count": null,
      "outputs": []
    },
    {
      "cell_type": "code",
      "source": [
        "a={\"Ironman\",\"Hulk\",\"Caption America\",\"Thor\"}\n",
        "print(a)"
      ],
      "metadata": {
        "colab": {
          "base_uri": "https://localhost:8080/"
        },
        "id": "InFPFAxPNVeg",
        "outputId": "19f4cc62-ab4b-467e-808c-fdfe7097f622"
      },
      "execution_count": null,
      "outputs": [
        {
          "output_type": "stream",
          "name": "stdout",
          "text": [
            "{'Ironman', 'Hulk', 'Thor', 'Caption America'}\n"
          ]
        }
      ]
    },
    {
      "cell_type": "code",
      "source": [
        "for x in a:\n",
        "  print(x)"
      ],
      "metadata": {
        "colab": {
          "base_uri": "https://localhost:8080/"
        },
        "id": "181n3KzDPFy4",
        "outputId": "772fc3ec-6208-46c8-ae64-d30e9422d244"
      },
      "execution_count": null,
      "outputs": [
        {
          "output_type": "stream",
          "name": "stdout",
          "text": [
            "Ironman\n",
            "Hulk\n",
            "Thor\n",
            "Caption America\n"
          ]
        }
      ]
    },
    {
      "cell_type": "code",
      "source": [
        "# set functions"
      ],
      "metadata": {
        "id": "k35oBXASPSZN"
      },
      "execution_count": null,
      "outputs": []
    },
    {
      "cell_type": "code",
      "source": [
        "# add\n",
        "a.add(\"Spiderman\")\n",
        "print(a)\n"
      ],
      "metadata": {
        "colab": {
          "base_uri": "https://localhost:8080/"
        },
        "id": "OnuPOCdNPaaa",
        "outputId": "07ac1271-34d7-4416-9320-907ba2a288ff"
      },
      "execution_count": null,
      "outputs": [
        {
          "output_type": "stream",
          "name": "stdout",
          "text": [
            "{'Thor', 'Ironman', 'Spiderman', 'Caption America', 'Hulk'}\n"
          ]
        }
      ]
    },
    {
      "cell_type": "code",
      "source": [
        "# pop\n",
        "a.pop()\n",
        "print(a)"
      ],
      "metadata": {
        "colab": {
          "base_uri": "https://localhost:8080/"
        },
        "id": "INjG9s2gPdK0",
        "outputId": "73077548-4b74-4eda-af9a-49e6229026e9"
      },
      "execution_count": null,
      "outputs": [
        {
          "output_type": "stream",
          "name": "stdout",
          "text": [
            "{'Ironman', 'Spiderman', 'Caption America', 'Hulk'}\n"
          ]
        }
      ]
    },
    {
      "cell_type": "code",
      "source": [
        "# remove\n",
        "a.remove(\"Hulk\")\n",
        "print(a)"
      ],
      "metadata": {
        "colab": {
          "base_uri": "https://localhost:8080/"
        },
        "id": "VL4eG5YcPecE",
        "outputId": "c85cde8a-a972-4310-935a-7d558e0e1bb4"
      },
      "execution_count": null,
      "outputs": [
        {
          "output_type": "stream",
          "name": "stdout",
          "text": [
            "{'Ironman', 'Spiderman', 'Caption America'}\n"
          ]
        }
      ]
    },
    {
      "cell_type": "code",
      "source": [
        "# discard\n",
        "a.discard(\"Ironman\")\n",
        "print(a)"
      ],
      "metadata": {
        "colab": {
          "base_uri": "https://localhost:8080/"
        },
        "id": "_1_RG7VPPgVT",
        "outputId": "705b6afe-ca5e-41cd-a182-44d1f306d594"
      },
      "execution_count": null,
      "outputs": [
        {
          "output_type": "stream",
          "name": "stdout",
          "text": [
            "{'Spiderman', 'Caption America'}\n"
          ]
        }
      ]
    },
    {
      "cell_type": "code",
      "source": [
        "# copy\n",
        "b=a.copy()\n",
        "print(b)"
      ],
      "metadata": {
        "colab": {
          "base_uri": "https://localhost:8080/"
        },
        "id": "qjL-WKPyPi2K",
        "outputId": "d06c43ad-4960-4671-caf7-639bb1a5533c"
      },
      "execution_count": null,
      "outputs": [
        {
          "output_type": "stream",
          "name": "stdout",
          "text": [
            "{'Spiderman', 'Caption America'}\n"
          ]
        }
      ]
    },
    {
      "cell_type": "code",
      "source": [
        "# isdisjoint\n",
        "a={\"Ironman\",\"Hulk\",\"Caption America\",\"Thor\"}\n",
        "b={\"Spiderman\",\"Antman\"}\n",
        "c={\"Hulk\",\"Thor\"}\n",
        "print(a.isdisjoint(c))\n",
        "print(a.isdisjoint(b))"
      ],
      "metadata": {
        "colab": {
          "base_uri": "https://localhost:8080/"
        },
        "id": "BDNftHRUP9tg",
        "outputId": "ec39d014-e388-4eba-a37a-f66701c86005"
      },
      "execution_count": null,
      "outputs": [
        {
          "output_type": "stream",
          "name": "stdout",
          "text": [
            "False\n",
            "True\n"
          ]
        }
      ]
    },
    {
      "cell_type": "code",
      "source": [
        "# issubset\n",
        "print(a.issubset(b))\n",
        "print(c.issubset(a))"
      ],
      "metadata": {
        "colab": {
          "base_uri": "https://localhost:8080/"
        },
        "id": "_b6MWACuQLLu",
        "outputId": "9661074d-78b2-4d3d-9d5e-2c2ea619623c"
      },
      "execution_count": null,
      "outputs": [
        {
          "output_type": "stream",
          "name": "stdout",
          "text": [
            "False\n",
            "True\n"
          ]
        }
      ]
    },
    {
      "cell_type": "code",
      "source": [
        "# issuperset\n",
        "print(a.issuperset(c))\n",
        "print(c.issuperset(a))\n",
        "#"
      ],
      "metadata": {
        "colab": {
          "base_uri": "https://localhost:8080/"
        },
        "id": "us7wbhq8QR-i",
        "outputId": "79da4881-d433-4b0c-9669-45f281f23d71"
      },
      "execution_count": null,
      "outputs": [
        {
          "output_type": "stream",
          "name": "stdout",
          "text": [
            "True\n",
            "False\n"
          ]
        }
      ]
    },
    {
      "cell_type": "code",
      "source": [
        "# update\n",
        "a.update(b)\n",
        "print(a)\n"
      ],
      "metadata": {
        "colab": {
          "base_uri": "https://localhost:8080/"
        },
        "id": "OZj4wpXgQNEn",
        "outputId": "2cc15e83-3032-497e-983c-91b59c733f3e"
      },
      "execution_count": null,
      "outputs": [
        {
          "output_type": "stream",
          "name": "stdout",
          "text": [
            "{'Ironman', 'Antman', 'Caption America', 'Spiderman', 'Thor', 'Hulk'}\n"
          ]
        }
      ]
    },
    {
      "cell_type": "code",
      "source": [
        "# clear\n",
        "a.clear()\n",
        "print(a)"
      ],
      "metadata": {
        "colab": {
          "base_uri": "https://localhost:8080/"
        },
        "id": "A8HXRcAHQPDg",
        "outputId": "386d9d5a-6f62-4161-93d6-7ac2872e7f96"
      },
      "execution_count": null,
      "outputs": [
        {
          "output_type": "stream",
          "name": "stdout",
          "text": [
            "set()\n"
          ]
        }
      ]
    },
    {
      "cell_type": "code",
      "source": [
        "a={\"Ironman\",\"Hulk\",\"Caption America\",\"Thor\"}\n",
        "b={\"Spiderman\",\"Antman\",\"Caption America\"}\n",
        "c={\"Hulk\",\"Thor\",\"Antman\"}"
      ],
      "metadata": {
        "id": "P43gDbNERIzK"
      },
      "execution_count": null,
      "outputs": []
    },
    {
      "cell_type": "code",
      "source": [
        "# union\n",
        "print(a.union(b))"
      ],
      "metadata": {
        "colab": {
          "base_uri": "https://localhost:8080/"
        },
        "id": "KvpWjjx_RlM-",
        "outputId": "202f67fe-d91a-4e4e-f435-e6a8d84eb136"
      },
      "execution_count": null,
      "outputs": [
        {
          "output_type": "stream",
          "name": "stdout",
          "text": [
            "{'Ironman', 'Antman', 'Caption America', 'Spiderman', 'Thor', 'Hulk'}\n"
          ]
        }
      ]
    },
    {
      "cell_type": "code",
      "source": [
        "# difference\n",
        "print(a.difference(c))\n",
        "print(a)"
      ],
      "metadata": {
        "colab": {
          "base_uri": "https://localhost:8080/"
        },
        "id": "nfTqyvuHRmuu",
        "outputId": "b44753e4-d9bd-4733-963e-304ee87d6829"
      },
      "execution_count": null,
      "outputs": [
        {
          "output_type": "stream",
          "name": "stdout",
          "text": [
            "{'Ironman', 'Caption America'}\n",
            "{'Ironman', 'Hulk', 'Thor', 'Caption America'}\n"
          ]
        }
      ]
    },
    {
      "cell_type": "code",
      "source": [
        "# diference update\n",
        "a.difference_update(c)\n",
        "print(a)"
      ],
      "metadata": {
        "colab": {
          "base_uri": "https://localhost:8080/"
        },
        "id": "kmL23WRqRrog",
        "outputId": "5fb5319c-8ccf-4fe2-cd7b-e91321e91ac8"
      },
      "execution_count": null,
      "outputs": [
        {
          "output_type": "stream",
          "name": "stdout",
          "text": [
            "{'Ironman', 'Caption America'}\n"
          ]
        }
      ]
    },
    {
      "cell_type": "code",
      "source": [
        "# intersection\n",
        "# common elements\n",
        "print(a.intersection(b))\n",
        "print(a)"
      ],
      "metadata": {
        "colab": {
          "base_uri": "https://localhost:8080/"
        },
        "id": "3k3J9Io-RpAI",
        "outputId": "4479034e-6b3a-43a0-8862-65090845db8a"
      },
      "execution_count": null,
      "outputs": [
        {
          "output_type": "stream",
          "name": "stdout",
          "text": [
            "{'Caption America'}\n",
            "{'Ironman', 'Caption America'}\n"
          ]
        }
      ]
    },
    {
      "cell_type": "code",
      "source": [
        "# intersection update\n",
        "a.intersection_update(b)\n",
        "print(a)\n"
      ],
      "metadata": {
        "colab": {
          "base_uri": "https://localhost:8080/"
        },
        "id": "jB0CKdejRqjK",
        "outputId": "4425c312-af1c-41a1-ce21-882a5da281b1"
      },
      "execution_count": null,
      "outputs": [
        {
          "output_type": "stream",
          "name": "stdout",
          "text": [
            "{'Caption America'}\n"
          ]
        }
      ]
    },
    {
      "cell_type": "code",
      "source": [
        "# symmetric difference\n",
        "a={\"Ironman\",\"Hulk\",\"Caption America\",\"Thor\"}\n",
        "b={\"Spiderman\",\"Antman\",\"Caption America\"}\n",
        "c={\"Hulk\",\"Thor\",\"Antman\"}\n",
        "print(a.symmetric_difference(b))\n",
        "# only give a and b un common values\n",
        "print(a)\n"
      ],
      "metadata": {
        "colab": {
          "base_uri": "https://localhost:8080/"
        },
        "id": "N7JAm2jqRyeo",
        "outputId": "9a312bb8-9ed4-4b79-b4ee-d88a8f14a84b"
      },
      "execution_count": null,
      "outputs": [
        {
          "output_type": "stream",
          "name": "stdout",
          "text": [
            "{'Thor', 'Ironman', 'Antman', 'Spiderman', 'Hulk'}\n",
            "{'Ironman', 'Hulk', 'Thor', 'Caption America'}\n"
          ]
        }
      ]
    },
    {
      "cell_type": "code",
      "source": [
        "# symmetric dfference update\n",
        "a.symmetric_difference_update(b)\n",
        "print(a)"
      ],
      "metadata": {
        "colab": {
          "base_uri": "https://localhost:8080/"
        },
        "id": "BvgkQaliR15m",
        "outputId": "09682088-41c4-48a6-82da-75b1e625e5a8"
      },
      "execution_count": null,
      "outputs": [
        {
          "output_type": "stream",
          "name": "stdout",
          "text": [
            "{'Thor', 'Ironman', 'Antman', 'Spiderman', 'Hulk'}\n"
          ]
        }
      ]
    },
    {
      "cell_type": "markdown",
      "source": [
        "# problems"
      ],
      "metadata": {
        "id": "aPuFdC0iTSfy"
      }
    },
    {
      "cell_type": "markdown",
      "source": [
        "**write a program to fing max and min in a set**"
      ],
      "metadata": {
        "id": "RaT3UHaRTVMN"
      }
    },
    {
      "cell_type": "code",
      "source": [
        "s={1,2,3,4,5,6,7,8,9}\n",
        "print(max(s))\n",
        "print(min(s))"
      ],
      "metadata": {
        "colab": {
          "base_uri": "https://localhost:8080/"
        },
        "id": "8clfCWJhURSd",
        "outputId": "583f8daa-7f8e-4581-8ece-ab4ab9e3d51f"
      },
      "execution_count": null,
      "outputs": [
        {
          "output_type": "stream",
          "name": "stdout",
          "text": [
            "9\n",
            "1\n"
          ]
        }
      ]
    },
    {
      "cell_type": "markdown",
      "source": [
        "**write a program to find common element in three list using sets**"
      ],
      "metadata": {
        "id": "DB4QtNbYTd8e"
      }
    },
    {
      "cell_type": "code",
      "source": [
        "a={1,2,3,4,5}\n",
        "b={3,4,5,6,7}\n",
        "c={5,6,7,8,9}\n",
        "print(set(a)&set(b)&set(c))\n",
        "print(a.intersection(b,c))"
      ],
      "metadata": {
        "colab": {
          "base_uri": "https://localhost:8080/"
        },
        "id": "ggyXqtK2UXm5",
        "outputId": "bc4fc4a3-6eca-476c-ddc2-9d4e532cfdc4"
      },
      "execution_count": null,
      "outputs": [
        {
          "output_type": "stream",
          "name": "stdout",
          "text": [
            "{5}\n",
            "{5}\n"
          ]
        }
      ]
    },
    {
      "cell_type": "markdown",
      "source": [
        "**write a program to find difference between two sets**"
      ],
      "metadata": {
        "id": "ftSXRSl6TlFi"
      }
    },
    {
      "cell_type": "code",
      "source": [
        "a={1,2,3,4,5}\n",
        "b={3,4,5,6,7}\n",
        "print(a.difference(b))\n",
        "print(b.difference(a))"
      ],
      "metadata": {
        "colab": {
          "base_uri": "https://localhost:8080/"
        },
        "id": "uVnNqFxRU2Gq",
        "outputId": "9c0a6296-bf07-4cac-b43d-240706050114"
      },
      "execution_count": null,
      "outputs": [
        {
          "output_type": "stream",
          "name": "stdout",
          "text": [
            "{1, 2}\n",
            "{6, 7}\n"
          ]
        }
      ]
    },
    {
      "cell_type": "markdown",
      "source": [
        "**write a python program to remove items from a set if it present in a set**"
      ],
      "metadata": {
        "id": "1ig3ewVLTt5M"
      }
    },
    {
      "cell_type": "code",
      "source": [
        "a={1,2,3,4,5,6}\n",
        "a.discard(3)\n",
        "print(a)"
      ],
      "metadata": {
        "colab": {
          "base_uri": "https://localhost:8080/"
        },
        "id": "WArEc5-pU6cV",
        "outputId": "177638ad-489b-4ec0-b667-1c02e255dcaa"
      },
      "execution_count": null,
      "outputs": [
        {
          "output_type": "stream",
          "name": "stdout",
          "text": [
            "{1, 2, 4, 5, 6}\n"
          ]
        }
      ]
    },
    {
      "cell_type": "markdown",
      "source": [
        "**write a program to check if a set is a subset of another set**"
      ],
      "metadata": {
        "id": "JpMvEMciT5Tz"
      }
    },
    {
      "cell_type": "code",
      "source": [
        "a={1,2,3,4,5,6}\n",
        "b={2,3,4}\n",
        "print(b.issubset(a))"
      ],
      "metadata": {
        "colab": {
          "base_uri": "https://localhost:8080/"
        },
        "id": "zEr2SLSaVPZt",
        "outputId": "71791166-6a5b-4cc5-95e9-7161a64296aa"
      },
      "execution_count": null,
      "outputs": [
        {
          "output_type": "stream",
          "name": "stdout",
          "text": [
            "True\n"
          ]
        }
      ]
    }
  ]
}